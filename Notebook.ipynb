{
 "cells": [
  {
   "attachments": {},
   "cell_type": "markdown",
   "metadata": {},
   "source": [
    "# MATH 3094 Project 2 - Wheat Seeds Classification\n",
    "The Wheat Seeds data set comes from the Institute of Agrophysics of the Polish Academy of Sciences in Lubin. It was originally used in a research paper on a gradient clustering algorithm.  \n",
    "  \n",
    "The dataset contains a collection of information about 210 wheat seeds. The data comes from images recorded on 13x18 cm X-ray KODAK plates. The attributes are:\n",
    "  \n",
    "  - Area  \n",
    "  - Perimeter  \n",
    "  - Compactness  \n",
    "  - Kernel Length  \n",
    "  - Kernal Width  \n",
    "  - Asymmetry Coeff  \n",
    "  - Kernel Groove  \n",
    "\n",
    "The seeds are classified by type of seed. The types are specified as follows:\n",
    "  1. Kama\n",
    "  2. Rosa\n",
    "  3. Canadian\n",
    "  \n",
    "The dataset can be found on Kaggle [here](https://www.kaggle.com/datasets/jmcaro/wheat-seedsuci?resource=download) and UC Irvine Machine Learning Repository [here](https://archive.ics.uci.edu/ml/datasets/seeds).\n",
    "\n",
    "Here we start by importing the necessary modules and data, and dividing the data into train and test sets.\n"
   ]
  },
  {
   "cell_type": "code",
   "execution_count": null,
   "metadata": {},
   "outputs": [],
   "source": [
    "#imports\n",
    "import numpy as np\n",
    "import matplotlib as plt\n",
    "\n",
    "from bokeh.io import output_notebook, show\n",
    "from bokeh.plotting import figure\n",
    "from bokeh.models import CategoricalColorMapper\n",
    "\n",
    "from sklearn.svm import SVC\n",
    "from sklearn.model_selection import train_test_split\n",
    "from sklearn.metrics import confusion_matrix\n",
    "\n",
    "output_notebook()"
   ]
  },
  {
   "cell_type": "code",
   "execution_count": null,
   "metadata": {},
   "outputs": [],
   "source": [
    "data = np.genfromtxt(\"seeds.csv\",delimiter=',',skip_header=1)\n",
    "labels = np.genfromtxt(\"seeds.csv\",delimiter=',',dtype=int,skip_header=1)\n",
    "\n",
    "data_train, data_test, labels_train, labels_test = train_test_split(data,labels,test_size=.2)"
   ]
  }
 ],
 "metadata": {
  "kernelspec": {
   "display_name": "venv",
   "language": "python",
   "name": "python3"
  },
  "language_info": {
   "name": "python",
   "version": "3.9.15"
  },
  "orig_nbformat": 4
 },
 "nbformat": 4,
 "nbformat_minor": 2
}
